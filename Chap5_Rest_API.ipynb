{
 "cells": [
  {
   "cell_type": "markdown",
   "metadata": {},
   "source": [
    "## OpenWeatherAPI\n",
    "Doc: https://openweathermap.org/current"
   ]
  },
  {
   "cell_type": "code",
   "execution_count": 6,
   "metadata": {},
   "outputs": [
    {
     "name": "stdout",
     "output_type": "stream",
     "text": [
      "None\n"
     ]
    }
   ],
   "source": [
    "from dotenv import load_dotenv\n",
    "import os\n",
    "\n",
    "# Load the environment variables from .env file\n",
    "load_dotenv('.env')\n",
    "\n",
    "# Get the API key from the environment variable\n",
    "api_key = os.getenv('OpenWeatherMapAPIKey')\n",
    "print(api_key)\n"
   ]
  },
  {
   "cell_type": "code",
   "execution_count": 8,
   "metadata": {},
   "outputs": [],
   "source": [
    "# Import the requests library\n",
    "import requests\n"
   ]
  },
  {
   "cell_type": "code",
   "execution_count": 14,
   "metadata": {},
   "outputs": [
    {
     "name": "stdout",
     "output_type": "stream",
     "text": [
      "{'coord': {'lon': 105.8412, 'lat': 21.0245}, 'weather': [{'id': 804, 'main': 'Clouds', 'description': 'overcast clouds', 'icon': '04d'}], 'base': 'stations', 'main': {'temp': 31, 'feels_like': 36.16, 'temp_min': 31, 'temp_max': 31, 'pressure': 1004, 'humidity': 65, 'sea_level': 1004, 'grnd_level': 1003}, 'visibility': 10000, 'wind': {'speed': 3.71, 'deg': 147, 'gust': 5.08}, 'clouds': {'all': 100}, 'dt': 1719021201, 'sys': {'type': 1, 'id': 9308, 'country': 'VN', 'sunrise': 1719008178, 'sunset': 1719056454}, 'timezone': 25200, 'id': 1581130, 'name': 'Hanoi', 'cod': 200}\n"
     ]
    }
   ],
   "source": [
    "import requests\n",
    "\n",
    "# Define the API endpoint URL\n",
    "response = requests.get(f\"https://api.openweathermap.org/data/2.5/weather?q=Hanoi&appid={api_key}&units=metric\")\n",
    "\n",
    "\n",
    "# Check if the request was successful (status code 200)\n",
    "if response.status_code == 200:\n",
    "    # Extract the weather data from the response\n",
    "    weather_data = response.json()\n",
    "    print(weather_data)\n",
    "else:\n",
    "    print(\"Error: Failed to retrieve weather data\")"
   ]
  },
  {
   "cell_type": "code",
   "execution_count": 15,
   "metadata": {},
   "outputs": [
    {
     "name": "stdout",
     "output_type": "stream",
     "text": [
      "{'coord': {'lon': 105.8412, 'lat': 21.0245}, 'weather': [{'id': 804, 'main': 'Clouds', 'description': 'overcast clouds', 'icon': '04d'}], 'base': 'stations', 'main': {'temp': 31, 'feels_like': 36.16, 'temp_min': 31, 'temp_max': 31, 'pressure': 1004, 'humidity': 65, 'sea_level': 1004, 'grnd_level': 1003}, 'visibility': 10000, 'wind': {'speed': 3.71, 'deg': 147, 'gust': 5.08}, 'clouds': {'all': 100}, 'dt': 1719021201, 'sys': {'type': 1, 'id': 9308, 'country': 'VN', 'sunrise': 1719008178, 'sunset': 1719056454}, 'timezone': 25200, 'id': 1581130, 'name': 'Hanoi', 'cod': 200}\n"
     ]
    }
   ],
   "source": [
    "# another way to pass the parameters\n",
    "response = requests.get(\"https://api.openweathermap.org/data/2.5/weather\", params={\n",
    "    \"q\": \"Hanoi\",\n",
    "    \"appid\": api_key,\n",
    "    \"units\": \"metric\"\n",
    "})\n",
    "\n",
    "print(response.json())"
   ]
  },
  {
   "cell_type": "markdown",
   "metadata": {},
   "source": [
    "## Bài tập\n",
    "Thay vì dùng tên thành phố trong query để lấy thông tin về thời tiết, hay nhập tên thành phố vào Geocoding API https://openweathermap.org/api/geocoding-api, rồi dùng lat & lon để nhạp vào WeatherAPI. Sau đó in ra thông số về thời tiết: nhiệt độ, feel like, ..."
   ]
  },
  {
   "cell_type": "code",
   "execution_count": null,
   "metadata": {},
   "outputs": [],
   "source": []
  },
  {
   "cell_type": "code",
   "execution_count": null,
   "metadata": {},
   "outputs": [],
   "source": []
  }
 ],
 "metadata": {
  "kernelspec": {
   "display_name": "Python 3",
   "language": "python",
   "name": "python3"
  },
  "language_info": {
   "codemirror_mode": {
    "name": "ipython",
    "version": 3
   },
   "file_extension": ".py",
   "mimetype": "text/x-python",
   "name": "python",
   "nbconvert_exporter": "python",
   "pygments_lexer": "ipython3",
   "version": "3.11.9"
  }
 },
 "nbformat": 4,
 "nbformat_minor": 2
}
